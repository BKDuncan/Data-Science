{
 "cells": [
  {
   "cell_type": "markdown",
   "metadata": {},
   "source": [
    "# Ensemble Learning & Random Forests"
   ]
  },
  {
   "cell_type": "markdown",
   "metadata": {},
   "source": [
    "![forest image](./images/Forest.PNG)"
   ]
  },
  {
   "cell_type": "markdown",
   "metadata": {},
   "source": [
    "## Table of Contents\n",
    "\n",
    "---\n",
    "\n",
    "### 1. [Ensemble Learning](#Ensemble-Learning)\n",
    "### 2. [Voting Classifiers](#Voting-Classifiers)\n",
    "### 3. [Bagging & Pasting](#Bagging-&-Pasting)\n",
    "### 4. [Boosting](#Boosting)\n",
    "### 5. [Stacking](#Stacking)\n",
    "\n",
    "---\n"
   ]
  },
  {
   "cell_type": "markdown",
   "metadata": {},
   "source": [
    "## Setup"
   ]
  },
  {
   "cell_type": "code",
   "execution_count": 10,
   "metadata": {},
   "outputs": [],
   "source": [
    "import pandas as pd\n",
    "\n",
    "# To split dataset for testing and training\n",
    "from sklearn.model_selection import train_test_split\n",
    "\n",
    "# Dataset used for binary classification\n",
    "from sklearn.datasets import make_moons\n",
    "\n",
    "# Metrics\n",
    "from sklearn.metrics import accuracy_score\n",
    "\n",
    "X, y = make_moons(n_samples=500, noise=0.30, random_state=42)\n",
    "X_train, X_test, y_train, y_test = train_test_split(X, y, random_state=42)"
   ]
  },
  {
   "cell_type": "markdown",
   "metadata": {},
   "source": [
    "## Ensemble Learning"
   ]
  },
  {
   "cell_type": "markdown",
   "metadata": {},
   "source": [
    "Ensemble learning is when you **put together** trained models instead of picking just one.\n",
    "\n",
    "### There are four main ensemble methods:\n",
    "### 1. Voting\n",
    "### 2. Bagging/Pasting\n",
    "### 3. Boosting\n",
    "### 4. Stacking"
   ]
  },
  {
   "cell_type": "markdown",
   "metadata": {},
   "source": [
    "## Voting Classifiers"
   ]
  },
  {
   "cell_type": "markdown",
   "metadata": {},
   "source": [
    "![voting image](./images/voting.jpg)"
   ]
  },
  {
   "cell_type": "markdown",
   "metadata": {},
   "source": [
    "- Train **many models** on **all** the training data, then select the best\n",
    "- Let the models *'vote'* on the classification\n",
    "- The **majority**, or most agreed on answer is your classification"
   ]
  },
  {
   "cell_type": "code",
   "execution_count": 11,
   "metadata": {},
   "outputs": [],
   "source": [
    "# Ensemble Model for Voting\n",
    "from sklearn.ensemble import VotingClassifier\n",
    "\n",
    "# Individual Models\n",
    "from sklearn.ensemble import RandomForestClassifier\n",
    "from sklearn.linear_model import LogisticRegression\n",
    "from sklearn.svm import SVC"
   ]
  },
  {
   "cell_type": "markdown",
   "metadata": {},
   "source": [
    "### We are going to make a voting classifier that looks like this:\n",
    "![Diagram of Voting Classifier Configuration](./images/votingclf_config.PNG)"
   ]
  },
  {
   "cell_type": "code",
   "execution_count": 12,
   "metadata": {},
   "outputs": [],
   "source": [
    "# Three Individual Classification Models\n",
    "logistic_classifier = LogisticRegression(solver=\"liblinear\", random_state=42)\n",
    "random_forest_classifier = RandomForestClassifier(n_estimators=10, random_state=42)\n",
    "support_vector_classifier = SVC(gamma=\"auto\", random_state=42, probability=True)"
   ]
  },
  {
   "cell_type": "code",
   "execution_count": 13,
   "metadata": {},
   "outputs": [],
   "source": [
    "# One Voting Classifier to Aggregate Them\n",
    "hard_voting_classifier = VotingClassifier(\n",
    "    estimators = [\n",
    "        ('lr', logistic_classifier), \n",
    "        ('rf', random_forest_classifier), \n",
    "        ('svc', support_vector_classifier)\n",
    "    ],\n",
    "    voting = 'hard' # hard OR soft\n",
    ")\n",
    "\n",
    "soft_voting_classifier = VotingClassifier(\n",
    "    estimators = [\n",
    "        ('lr', logistic_classifier), \n",
    "        ('rf', random_forest_classifier), \n",
    "        ('svc', support_vector_classifier)\n",
    "    ],\n",
    "    voting = 'soft'\n",
    ")"
   ]
  },
  {
   "cell_type": "markdown",
   "metadata": {},
   "source": [
    "## Two Types of Voting\n",
    "### Hard\n",
    "- Take the highest number of votes\n",
    "\n",
    "### Soft\n",
    "- Add up the probabilities to pick the one that we are most sure about\n",
    "\n",
    "#### Example of Hard Voting\n",
    "![Diagram of Voting Classifier Configuration](./images/votingclf.PNG)\n"
   ]
  },
  {
   "cell_type": "code",
   "execution_count": 14,
   "metadata": {},
   "outputs": [],
   "source": [
    "voting_results = pd.DataFrame()\n",
    "\n",
    "for clf in ( logistic_classifier, random_forest_classifier, support_vector_classifier, \n",
    "            hard_voting_classifier, soft_voting_classifier):\n",
    "    \n",
    "    # Train our models on the training data\n",
    "    clf.fit(X_train, y_train)\n",
    "    \n",
    "    # Evaluate their performance using the testing data\n",
    "    y_pred = clf.predict(X_test)\n",
    "    \n",
    "    name = type(clf).__name__\n",
    "    if name == 'VotingClassifier':\n",
    "        name = name + ' ' + clf.voting\n",
    "    \n",
    "    # Store our accuracy results in a dataframe\n",
    "    model_result = { 'Model': name, 'Accuracy': accuracy_score(y_test, y_pred) }\n",
    "    voting_results = voting_results.append(model_result, ignore_index=True)"
   ]
  },
  {
   "cell_type": "code",
   "execution_count": 15,
   "metadata": {},
   "outputs": [
    {
     "data": {
      "text/plain": [
       "Text(0, 0.5, 'Model\\n')"
      ]
     },
     "execution_count": 15,
     "metadata": {},
     "output_type": "execute_result"
    },
    {
     "data": {
      "image/png": "[encoded data removed]",
      "text/plain": [
       "<Figure size 720x720 with 1 Axes>"
      ]
     },
     "metadata": {
      "needs_background": "light"
     },
     "output_type": "display_data"
    }
   ],
   "source": [
    "colors = ['r', 'b', 'purple', 'darkturquoise']\n",
    "\n",
    "barchart = voting_results.sort_values(by='Accuracy', ascending=True).plot.barh('Model', \n",
    "                                    'Accuracy', \n",
    "                                    color=colors, \n",
    "                                    fontsize=20, \n",
    "                                    title='Voting Classifier Results',\n",
    "                                    legend=False,\n",
    "                                    figsize=(10,10))\n",
    "\n",
    "barchart.set_xlabel('\\nAccuracy', fontsize=20)\n",
    "barchart.set_ylabel('Model\\n', fontsize=20)"
   ]
  },
  {
   "cell_type": "code",
   "execution_count": 16,
   "metadata": {},
   "outputs": [
    {
     "data": {
      "text/html": [
       "<div>\n",
       "<style scoped>\n",
       "    .dataframe tbody tr th:only-of-type {\n",
       "        vertical-align: middle;\n",
       "    }\n",
       "\n",
       "    .dataframe tbody tr th {\n",
       "        vertical-align: top;\n",
       "    }\n",
       "\n",
       "    .dataframe thead th {\n",
       "        text-align: right;\n",
       "    }\n",
       "</style>\n",
       "<table border=\"1\" class=\"dataframe\">\n",
       "  <thead>\n",
       "    <tr style=\"text-align: right;\">\n",
       "      <th></th>\n",
       "      <th>Accuracy</th>\n",
       "      <th>Model</th>\n",
       "    </tr>\n",
       "  </thead>\n",
       "  <tbody>\n",
       "    <tr>\n",
       "      <th>4</th>\n",
       "      <td>0.912</td>\n",
       "      <td>VotingClassifier soft</td>\n",
       "    </tr>\n",
       "    <tr>\n",
       "      <th>3</th>\n",
       "      <td>0.896</td>\n",
       "      <td>VotingClassifier hard</td>\n",
       "    </tr>\n",
       "    <tr>\n",
       "      <th>2</th>\n",
       "      <td>0.888</td>\n",
       "      <td>SVC</td>\n",
       "    </tr>\n",
       "    <tr>\n",
       "      <th>1</th>\n",
       "      <td>0.872</td>\n",
       "      <td>RandomForestClassifier</td>\n",
       "    </tr>\n",
       "    <tr>\n",
       "      <th>0</th>\n",
       "      <td>0.864</td>\n",
       "      <td>LogisticRegression</td>\n",
       "    </tr>\n",
       "  </tbody>\n",
       "</table>\n",
       "</div>"
      ],
      "text/plain": [
       "   Accuracy                   Model\n",
       "4     0.912   VotingClassifier soft\n",
       "3     0.896   VotingClassifier hard\n",
       "2     0.888                     SVC\n",
       "1     0.872  RandomForestClassifier\n",
       "0     0.864      LogisticRegression"
      ]
     },
     "execution_count": 16,
     "metadata": {},
     "output_type": "execute_result"
    }
   ],
   "source": [
    "voting_results.sort_values(by='Accuracy', ascending=False)"
   ]
  },
  {
   "cell_type": "markdown",
   "metadata": {},
   "source": [
    "## Bagging & Pasting"
   ]
  },
  {
   "cell_type": "markdown",
   "metadata": {},
   "source": [
    "- Select **one** model type\n",
    "- Train many models of that type on **random subsets** of the data\n",
    "- Let the models *'vote'* on the classification (soft or hard like our voting classifiers)\n",
    "- The **majority**, or most agreed on answer is your classification"
   ]
  },
  {
   "cell_type": "markdown",
   "metadata": {},
   "source": [
    "### Terminology\n",
    "\n",
    "**Bagging (Bootstrap Aggregating)**: When the sampled data is put back, giving other models a chance to sample it\n",
    "\n",
    "**Pasting** When the sampled data is removed, so no model see's it more than once"
   ]
  },
  {
   "cell_type": "markdown",
   "metadata": {},
   "source": [
    "### So lets train a bagging classifier on our data"
   ]
  },
  {
   "cell_type": "code",
   "execution_count": 17,
   "metadata": {},
   "outputs": [],
   "source": [
    "from sklearn.ensemble import BaggingClassifier\n",
    "from sklearn.tree import DecisionTreeClassifier\n",
    "\n",
    "# Pick our model type for the bagging classifier\n",
    "decision_tree_classifier = DecisionTreeClassifier(random_state=42)\n",
    "\n",
    "# Define our Bagging Classifier\n",
    "bag_clf = BaggingClassifier(\n",
    "    decision_tree_classifier,\n",
    "    n_estimators=500,\n",
    "    max_samples=100, \n",
    "    bootstrap=True, \n",
    "    n_jobs=-1, \n",
    "    random_state=42)\n",
    "\n",
    "# Train the ensemble model, and our lone model to see how it compares\n",
    "bag_clf.fit(X_train, y_train)\n",
    "decision_tree_classifier.fit(X_train, y_train)\n",
    "\n",
    "# Evaluate their accuracy\n",
    "y_pred_bag = bag_clf.predict(X_test)\n",
    "y_pred_control = decision_tree_classifier.predict(X_test)"
   ]
  },
  {
   "cell_type": "code",
   "execution_count": 18,
   "metadata": {},
   "outputs": [],
   "source": [
    "# Store our accuracy results in a dataframe\n",
    "model_result = { 'Model': type(bag_clf).__name__, 'Accuracy': accuracy_score(y_test, y_pred_bag) }\n",
    "voting_results = voting_results.append(model_result, ignore_index=True)\n",
    "\n",
    "model_result = { 'Model': type(decision_tree_classifier).__name__, 'Accuracy': accuracy_score(y_test, y_pred_control) }\n",
    "voting_results = voting_results.append(model_result, ignore_index=True)"
   ]
  },
  {
   "cell_type": "code",
   "execution_count": 19,
   "metadata": {},
   "outputs": [
    {
     "data": {
      "text/plain": [
       "Text(0, 0.5, 'Model\\n')"
      ]
     },
     "execution_count": 19,
     "metadata": {},
     "output_type": "execute_result"
    },
    {
     "data": {
      "image/png": "[encoded data removed]",
      "text/plain": [
       "<Figure size 720x720 with 1 Axes>"
      ]
     },
     "metadata": {
      "needs_background": "light"
     },
     "output_type": "display_data"
    }
   ],
   "source": [
    "barchart = voting_results.sort_values(by='Accuracy', ascending=True).plot.barh('Model', \n",
    "                                    'Accuracy', \n",
    "                                    color=colors, \n",
    "                                    fontsize=20, \n",
    "                                    title='Voting Classifier Results',\n",
    "                                    legend=False,\n",
    "                                    figsize=(10,10))\n",
    "\n",
    "barchart.set_xlabel('\\nAccuracy', fontsize=20)\n",
    "barchart.set_ylabel('Model\\n', fontsize=20)"
   ]
  },
  {
   "cell_type": "code",
   "execution_count": 20,
   "metadata": {},
   "outputs": [
    {
     "data": {
      "text/html": [
       "<div>\n",
       "<style scoped>\n",
       "    .dataframe tbody tr th:only-of-type {\n",
       "        vertical-align: middle;\n",
       "    }\n",
       "\n",
       "    .dataframe tbody tr th {\n",
       "        vertical-align: top;\n",
       "    }\n",
       "\n",
       "    .dataframe thead th {\n",
       "        text-align: right;\n",
       "    }\n",
       "</style>\n",
       "<table border=\"1\" class=\"dataframe\">\n",
       "  <thead>\n",
       "    <tr style=\"text-align: right;\">\n",
       "      <th></th>\n",
       "      <th>Accuracy</th>\n",
       "      <th>Model</th>\n",
       "    </tr>\n",
       "  </thead>\n",
       "  <tbody>\n",
       "    <tr>\n",
       "      <th>4</th>\n",
       "      <td>0.912</td>\n",
       "      <td>VotingClassifier soft</td>\n",
       "    </tr>\n",
       "    <tr>\n",
       "      <th>5</th>\n",
       "      <td>0.904</td>\n",
       "      <td>BaggingClassifier</td>\n",
       "    </tr>\n",
       "    <tr>\n",
       "      <th>3</th>\n",
       "      <td>0.896</td>\n",
       "      <td>VotingClassifier hard</td>\n",
       "    </tr>\n",
       "    <tr>\n",
       "      <th>2</th>\n",
       "      <td>0.888</td>\n",
       "      <td>SVC</td>\n",
       "    </tr>\n",
       "    <tr>\n",
       "      <th>1</th>\n",
       "      <td>0.872</td>\n",
       "      <td>RandomForestClassifier</td>\n",
       "    </tr>\n",
       "    <tr>\n",
       "      <th>0</th>\n",
       "      <td>0.864</td>\n",
       "      <td>LogisticRegression</td>\n",
       "    </tr>\n",
       "    <tr>\n",
       "      <th>6</th>\n",
       "      <td>0.856</td>\n",
       "      <td>DecisionTreeClassifier</td>\n",
       "    </tr>\n",
       "  </tbody>\n",
       "</table>\n",
       "</div>"
      ],
      "text/plain": [
       "   Accuracy                   Model\n",
       "4     0.912   VotingClassifier soft\n",
       "5     0.904       BaggingClassifier\n",
       "3     0.896   VotingClassifier hard\n",
       "2     0.888                     SVC\n",
       "1     0.872  RandomForestClassifier\n",
       "0     0.864      LogisticRegression\n",
       "6     0.856  DecisionTreeClassifier"
      ]
     },
     "execution_count": 20,
     "metadata": {},
     "output_type": "execute_result"
    }
   ],
   "source": [
    "voting_results.sort_values(by='Accuracy', ascending=False)"
   ]
  },
  {
   "cell_type": "markdown",
   "metadata": {},
   "source": [
    "### Random Forests"
   ]
  },
  {
   "cell_type": "markdown",
   "metadata": {},
   "source": [
    "### The bagging classifier we just made is a special type of ensemble. \n",
    "A **Random Forest Tree** is an ensemble of decision tree's made from bagging or pasting. We made one using the built in RandomForestClassifier class in the voting section as well."
   ]
  },
  {
   "cell_type": "markdown",
   "metadata": {},
   "source": [
    "## Boosting"
   ]
  },
  {
   "cell_type": "markdown",
   "metadata": {},
   "source": [
    "- Train a model\n",
    "- Identify the models mistakes\n",
    "- Feed the mistakes to a new model that is trained to fix the last ones mistakes\n",
    "- Repeat, chaining together a sequence of improving models\n",
    "- The result is a bunch of models that add together their predictions to give one answer"
   ]
  },
  {
   "cell_type": "markdown",
   "metadata": {},
   "source": [
    "### Types of Boosting\n",
    "- **AdaBoost:** Have \"importance\" weights on the data. When a classifier gets one wrong, increase its weight for the next classifier in the chain. The way we do this is using a **weighted error** to measure our performance instead of the mean error.\n",
    "\n",
    "\n",
    "![Adaboost Weighted Error Equation](./images/weighted_error_adaboost.PNG)\n",
    "\n",
    "- **Gradient Boosting:** Instead of assigning weights to each instance of data, gradient boosting will try to fit the next model to the residual errors of the previous predictor"
   ]
  },
  {
   "cell_type": "markdown",
   "metadata": {},
   "source": [
    "![Adaboost Weighted Error Equation](./images/gradient_boost1.PNG)\n",
    "![Adaboost Weighted Error Equation](./images/gradient_boost2.PNG)"
   ]
  },
  {
   "cell_type": "markdown",
   "metadata": {},
   "source": [
    "### Train an AdaBoost Model"
   ]
  },
  {
   "cell_type": "code",
   "execution_count": 30,
   "metadata": {},
   "outputs": [],
   "source": [
    "import matplotlib.pyplot as plt\n",
    "from matplotlib.colors import ListedColormap\n",
    "import numpy as np\n",
    "\n",
    "def plot_decision_boundary(clf, X, y, axes=[-1.5, 2.5, -1, 1.5], alpha=0.5, contour=True):\n",
    "    x1s = np.linspace(axes[0], axes[1], 100)\n",
    "    x2s = np.linspace(axes[2], axes[3], 100)\n",
    "    x1, x2 = np.meshgrid(x1s, x2s)\n",
    "    X_new = np.c_[x1.ravel(), x2.ravel()]\n",
    "    y_pred = clf.predict(X_new).reshape(x1.shape)\n",
    "    custom_cmap = ListedColormap(['#fafab0','#9898ff','#a0faa0'])\n",
    "    plt.contourf(x1, x2, y_pred, alpha=0.3, cmap=custom_cmap)\n",
    "    if contour:\n",
    "        custom_cmap2 = ListedColormap(['#7d7d58','#4c4c7f','#507d50'])\n",
    "        plt.contour(x1, x2, y_pred, cmap=custom_cmap2, alpha=0.8)\n",
    "    plt.plot(X[:, 0][y==0], X[:, 1][y==0], \"yo\", alpha=alpha)\n",
    "    plt.plot(X[:, 0][y==1], X[:, 1][y==1], \"bs\", alpha=alpha)\n",
    "    plt.axis(axes)\n",
    "    plt.xlabel(r\"$x_1$\", fontsize=18)\n",
    "    plt.ylabel(r\"$x_2$\", fontsize=18, rotation=0)"
   ]
  },
  {
   "cell_type": "code",
   "execution_count": 31,
   "metadata": {},
   "outputs": [
    {
     "data": {
      "image/png": "[encoded data removed]",
      "text/plain": [
       "<Figure size 432x288 with 1 Axes>"
      ]
     },
     "metadata": {
      "needs_background": "light"
     },
     "output_type": "display_data"
    },
    {
     "data": {
      "text/plain": [
       "<Figure size 1440x1440 with 0 Axes>"
      ]
     },
     "metadata": {},
     "output_type": "display_data"
    }
   ],
   "source": [
    "from sklearn.ensemble import AdaBoostClassifier\n",
    "\n",
    "adaboost_clf = AdaBoostClassifier(\n",
    "    DecisionTreeClassifier(max_depth=1), n_estimators=200,\n",
    "    algorithm=\"SAMME.R\", learning_rate=0.5, random_state=42)\n",
    "adaboost_clf.fit(X_train, y_train)\n",
    "\n",
    "plot_decision_boundary(adaboost_clf, X, y)"
   ]
  },
  {
   "cell_type": "markdown",
   "metadata": {},
   "source": [
    "## Stacking"
   ]
  },
  {
   "cell_type": "markdown",
   "metadata": {},
   "source": [
    "### Why choose hard or soft voting when we can train a model to make the decision?\n",
    "\n",
    "In stacking you feed all the model outputs from an ensemble method like bagging or voting into another model that is trained to pick the correct answer based on the other models behavior."
   ]
  },
  {
   "cell_type": "markdown",
   "metadata": {},
   "source": [
    "![Diagram of Voting Classifier Configuration](./images/stacking.PNG)"
   ]
  },
  {
   "cell_type": "markdown",
   "metadata": {},
   "source": [
    "### Stacking isn't supported in Scikit Learn yet so I don't have an example for you!"
   ]
  }
 ],
 "metadata": {
  "kernelspec": {
   "display_name": "Python 3",
   "language": "python",
   "name": "python3"
  },
  "language_info": {
   "codemirror_mode": {
    "name": "ipython",
    "version": 3
   },
   "file_extension": ".py",
   "mimetype": "text/x-python",
   "name": "python",
   "nbconvert_exporter": "python",
   "pygments_lexer": "ipython3",
   "version": "3.6.7"
  }
 },
 "nbformat": 4,
 "nbformat_minor": 2
}
