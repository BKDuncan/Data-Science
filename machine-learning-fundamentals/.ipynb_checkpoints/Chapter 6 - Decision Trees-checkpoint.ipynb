{
 "cells": [
  {
   "cell_type": "markdown",
   "metadata": {},
   "source": [
    "# Chapter 6 - Decision Trees"
   ]
  },
  {
   "cell_type": "code",
   "execution_count": 4,
   "metadata": {},
   "outputs": [],
   "source": [
    "from sklearn.datasets import load_iris \n",
    "from sklearn.tree import DecisionTreeClassifier, export_graphviz"
   ]
  },
  {
   "cell_type": "code",
   "execution_count": 5,
   "metadata": {},
   "outputs": [],
   "source": [
    "iris = load_iris() \n",
    "X = iris.data[:, 2:] # petal length and width \n",
    "y = iris.target"
   ]
  },
  {
   "cell_type": "markdown",
   "metadata": {},
   "source": [
    "## Classifier"
   ]
  },
  {
   "cell_type": "code",
   "execution_count": 6,
   "metadata": {},
   "outputs": [
    {
     "data": {
      "text/plain": [
       "DecisionTreeClassifier(class_weight=None, criterion='gini', max_depth=2,\n",
       "            max_features=None, max_leaf_nodes=None,\n",
       "            min_impurity_decrease=0.0, min_impurity_split=None,\n",
       "            min_samples_leaf=1, min_samples_split=2,\n",
       "            min_weight_fraction_leaf=0.0, presort=False, random_state=None,\n",
       "            splitter='best')"
      ]
     },
     "execution_count": 6,
     "metadata": {},
     "output_type": "execute_result"
    }
   ],
   "source": [
    "tree_clf = DecisionTreeClassifier(max_depth=2) \n",
    "tree_clf.fit(X, y)"
   ]
  },
  {
   "cell_type": "code",
   "execution_count": 8,
   "metadata": {},
   "outputs": [],
   "source": [
    "# Create a graphic of our decision tree\n",
    "export_graphviz(\n",
    "    tree_clf,\n",
    "    out_file='iris_tree.dot',\n",
    "    feature_names=iris.feature_names[2:],\n",
    "    class_names=iris.target_names,\n",
    "    rounded=True,\n",
    "    filled=True\n",
    ")"
   ]
  },
  {
   "cell_type": "markdown",
   "metadata": {},
   "source": [
    "### To view the graphic (windows instructions):\n",
    "1. Download the Graphviz program from https://graphviz.gitlab.io/_pages/Download/Download_windows.html\n",
    "2. Install the program, and add the `bin` folder to your system path\n",
    "3. Run this command on the dot file: `$ dot -Tpng iris_tree.dot -o iris_tree.png`"
   ]
  },
  {
   "cell_type": "markdown",
   "metadata": {},
   "source": [
    "### Decision Tree Result\n",
    "\n",
    "![Image of Decision Tree](./iris_tree.png)"
   ]
  },
  {
   "cell_type": "markdown",
   "metadata": {},
   "source": [
    "| Node Content | Meaning |  \n",
    "| --- | --- |\n",
    "| Condition | If... else condition to traverse nodes |\n",
    "| Gini | Node \"*Purity*\". |\n",
    "| Samples | Total Number of **training** instances it applies to |\n",
    "| Value | Number of **training** instances it applies to by class |\n",
    "| Class | The classification to return |"
   ]
  },
  {
   "cell_type": "markdown",
   "metadata": {},
   "source": [
    "A node is **\"pure\"** if all training instances it applies to belong in the same class. That is **G<sub>i</sub> = 0**.\n",
    "\n",
    "G <sub>i</sub> = 1 - $\\sum_{k=1}^{n} P_i$ k <sup>2</sup> **... or** \n",
    "\n",
    "G <sub>i</sub> = 1 - $\\sum_{k=1}^{n}$ ($\\frac{Value_i}{Samples}$)<sup>2</sup>\n",
    "\n",
    "E.G. for the Versicolor Node: \n",
    "\n",
    "G<sub>2</sub> = 1 - (  ($\\frac{0}{54}$) <sup>2</sup> + ($\\frac{49}{54}$) <sup>2</sup> + ($\\frac{5}{54}$) <sup>2</sup>  )\n",
    "= 0.168"
   ]
  },
  {
   "cell_type": "markdown",
   "metadata": {},
   "source": [
    "Because the tree is easy to interpret and draw conclusions from, we call decision trees a whitebox model. Random Forest and Neural Network Models are considered much more complicated so they are blackbox models."
   ]
  },
  {
   "cell_type": "code",
   "execution_count": null,
   "metadata": {},
   "outputs": [],
   "source": []
  }
 ],
 "metadata": {
  "kernelspec": {
   "display_name": "Python 3",
   "language": "python",
   "name": "python3"
  },
  "language_info": {
   "codemirror_mode": {
    "name": "ipython",
    "version": 3
   },
   "file_extension": ".py",
   "mimetype": "text/x-python",
   "name": "python",
   "nbconvert_exporter": "python",
   "pygments_lexer": "ipython3",
   "version": "3.6.7"
  }
 },
 "nbformat": 4,
 "nbformat_minor": 2
}
