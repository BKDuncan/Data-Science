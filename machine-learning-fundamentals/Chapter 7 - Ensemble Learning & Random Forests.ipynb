{
 "cells": [
  {
   "cell_type": "markdown",
   "metadata": {},
   "source": [
    "# Ensemble Learning & Random Forests"
   ]
  },
  {
   "cell_type": "markdown",
   "metadata": {},
   "source": [
    "## Table of Contents\n",
    "### 1. [Ensemble Learning](#Ensemble-Learning)\n",
    "### 1. [Voting Classifiers](#Voting-Classifiers)\n",
    "### 1. [Bagging & Pasting](#Bagging-&-Pasting)\n",
    "### 1. [Boosting](#Boosting)\n",
    "### 1. [Stacking](#Stacking)"
   ]
  },
  {
   "cell_type": "code",
   "execution_count": null,
   "metadata": {},
   "outputs": [],
   "source": []
  },
  {
   "cell_type": "markdown",
   "metadata": {},
   "source": [
    "## Ensemble Learning"
   ]
  },
  {
   "cell_type": "markdown",
   "metadata": {},
   "source": [
    "Ensemble learning is when you **put together** trained models instead of picking just one.\n",
    "\n",
    "### There are four main ensemble methods:\n",
    "### 1. Voting\n",
    "### 2. Bagging/Pasting\n",
    "### 3. Boosting\n",
    "### 4. Stacking"
   ]
  },
  {
   "cell_type": "markdown",
   "metadata": {},
   "source": [
    "## Voting Classifiers"
   ]
  },
  {
   "cell_type": "markdown",
   "metadata": {},
   "source": [
    "- Train **many models** and select the best\n",
    "- Let the models *'vote'* on the classification\n",
    "- The **majority**, or most agreed on answer is your classification"
   ]
  },
  {
   "cell_type": "markdown",
   "metadata": {},
   "source": [
    "![voting image](./images/voting.jpg)"
   ]
  },
  {
   "cell_type": "code",
   "execution_count": 2,
   "metadata": {},
   "outputs": [],
   "source": [
    "# Ensemble Model for Voting\n",
    "from sklearn.ensemble import VotingClassifier\n",
    "\n",
    "# Individual Models\n",
    "from sklearn.ensemble import RandomForestClassifier\n",
    "from sklearn.linear_model import LogisticRegression\n",
    "from sklearn.svm import SVC"
   ]
  },
  {
   "cell_type": "code",
   "execution_count": 4,
   "metadata": {},
   "outputs": [],
   "source": [
    "# Three Individual Classification Models\n",
    "logistic_classifier = LogisticRegression()\n",
    "random_forest_classifier = RandomForestClassifier()\n",
    "support_vector_classifier = SVC()"
   ]
  },
  {
   "cell_type": "code",
   "execution_count": 6,
   "metadata": {},
   "outputs": [],
   "source": [
    "# One Voting Classifier to Aggregate Them\n",
    "voting_classifier = VotingClassifier(\n",
    "    estimators = [\n",
    "        ('lr', logistic_classifier), \n",
    "        ('rf', random_forest_classifier), \n",
    "        ('svc', support_vector_classifier)\n",
    "    ],\n",
    "    voting = 'hard' # hard OR soft\n",
    ")"
   ]
  },
  {
   "cell_type": "markdown",
   "metadata": {},
   "source": [
    "## Two Types of Voting\n",
    "### Hard\n",
    "- Take the highest number of votes\n",
    "\n",
    "### Soft\n",
    "- Add up the probabilities to pick the one that we are most sure about"
   ]
  },
  {
   "cell_type": "code",
   "execution_count": null,
   "metadata": {},
   "outputs": [],
   "source": []
  },
  {
   "cell_type": "markdown",
   "metadata": {},
   "source": [
    "## Bagging & Pasting"
   ]
  },
  {
   "cell_type": "code",
   "execution_count": null,
   "metadata": {},
   "outputs": [],
   "source": []
  },
  {
   "cell_type": "markdown",
   "metadata": {},
   "source": [
    "## Random Forests"
   ]
  },
  {
   "cell_type": "code",
   "execution_count": null,
   "metadata": {},
   "outputs": [],
   "source": []
  },
  {
   "cell_type": "markdown",
   "metadata": {},
   "source": [
    "## Boosting"
   ]
  },
  {
   "cell_type": "code",
   "execution_count": null,
   "metadata": {},
   "outputs": [],
   "source": []
  },
  {
   "cell_type": "markdown",
   "metadata": {},
   "source": [
    "## Stacking"
   ]
  },
  {
   "cell_type": "code",
   "execution_count": null,
   "metadata": {},
   "outputs": [],
   "source": []
  }
 ],
 "metadata": {
  "kernelspec": {
   "display_name": "Python 3",
   "language": "python",
   "name": "python3"
  },
  "language_info": {
   "codemirror_mode": {
    "name": "ipython",
    "version": 3
   },
   "file_extension": ".py",
   "mimetype": "text/x-python",
   "name": "python",
   "nbconvert_exporter": "python",
   "pygments_lexer": "ipython3",
   "version": "3.6.7"
  }
 },
 "nbformat": 4,
 "nbformat_minor": 2
}
